{
 "cells": [
  {
   "cell_type": "markdown",
   "id": "d777c49f-e656-4c0a-aa74-f63d5c26bdee",
   "metadata": {
    "tags": []
   },
   "source": [
    "### Задача 3.1 Расчет плотности фотонов в резонаторе полупроводникового гетеролазера GaAs/AlGaAs"
   ]
  },
  {
   "cell_type": "markdown",
   "id": "00386656-938e-4a63-8c7f-d3ee3367e6f4",
   "metadata": {},
   "source": [
    "Можно и без numpy, конечно, но так привычнее"
   ]
  },
  {
   "cell_type": "code",
   "execution_count": 9,
   "id": "173ea68f-3a2c-4a05-a5aa-a3d8cc97b4f7",
   "metadata": {},
   "outputs": [],
   "source": [
    "import numpy as np"
   ]
  },
  {
   "cell_type": "markdown",
   "id": "345e0c0f-6b1d-4e14-964d-a94879f3ab1c",
   "metadata": {},
   "source": [
    "Параметры"
   ]
  },
  {
   "cell_type": "code",
   "execution_count": 10,
   "id": "91db4943-c24c-4660-a281-d425dfa49d3c",
   "metadata": {},
   "outputs": [],
   "source": [
    "P_out=11*10**(-3) # выходная мощность в Вт\n",
    "E=1.4*1.6*10**(-19) # энергия фотонов в эВ\n",
    "R_m1=1 # коэффициент отражения \"глухого\" зеркала\n",
    "R_m2=0.26 # коэффициент отражения выходного зеркала\n",
    "w=2*10**(-6) # ширина резонатора в м\n",
    "L=400*10**(-6) # длина резонатора в м\n",
    "d=0.1*10**(-6) # эффективная глубина моды в м\n",
    "alpha_p=10*10**2 # паразитные потери в обратных метрах\n",
    "n_sc=3.3 # показатель преломления\n",
    "g=3*10**(-16)*10**(-4) # динамическое усиления в квадратных метрах\n",
    "c=3*10**8 # скорость света в м/с"
   ]
  },
  {
   "cell_type": "markdown",
   "id": "f076b9d4-ac7a-4de6-ac39-5bd5a6c96817",
   "metadata": {},
   "source": [
    "Сначала расчет собственных потерь"
   ]
  },
  {
   "cell_type": "code",
   "execution_count": 11,
   "id": "7832f0d1-b728-4375-96dd-d8943987058e",
   "metadata": {},
   "outputs": [],
   "source": [
    "alpha_m=1/(2*L)*np.log(1/R_m2)"
   ]
  },
  {
   "cell_type": "markdown",
   "id": "5c440b21-4151-4132-97fc-3d875a54f54b",
   "metadata": {},
   "source": [
    "Плотность фотонов в резонаторе выведена из выражения для выходной мощности, результат в обратных метрах"
   ]
  },
  {
   "cell_type": "code",
   "execution_count": 12,
   "id": "38d36522-be9c-4f70-8615-278c33898fa3",
   "metadata": {},
   "outputs": [
    {
     "data": {
      "text/plain": [
       "4.0100151335004175e+21"
      ]
     },
     "execution_count": 12,
     "metadata": {},
     "output_type": "execute_result"
    }
   ],
   "source": [
    "s=P_out*n_sc/(E*L*w*d*alpha_m*c)\n",
    "s"
   ]
  },
  {
   "cell_type": "markdown",
   "id": "5184fbee-cbb0-40ee-8878-a1c8629dd9eb",
   "metadata": {},
   "source": [
    "### Задача 3.2 Расчет дифференциальной квантовой эффективности гетеролазера GaAs/AlGaAs"
   ]
  },
  {
   "cell_type": "markdown",
   "id": "d16276a3-7398-40b8-a656-062d5d86b3a6",
   "metadata": {},
   "source": [
    "Параметры"
   ]
  },
  {
   "cell_type": "code",
   "execution_count": 13,
   "id": "fa2f551b-f90c-4b80-8a09-3fdc8b4ddb2d",
   "metadata": {},
   "outputs": [],
   "source": [
    "eta_i=0.6 # внутренняя квантовая эффективность"
   ]
  },
  {
   "cell_type": "markdown",
   "id": "7c1c122b-acab-463d-8357-81a91d57eb69",
   "metadata": {},
   "source": [
    "Расчет"
   ]
  },
  {
   "cell_type": "code",
   "execution_count": 14,
   "id": "2651a204-3ad1-4ca9-bab0-c0d6288bbe47",
   "metadata": {},
   "outputs": [
    {
     "data": {
      "text/plain": [
       "0.4626274282830995"
      ]
     },
     "execution_count": 14,
     "metadata": {},
     "output_type": "execute_result"
    }
   ],
   "source": [
    "eta_D=eta_i*(1/(1+(alpha_p*L/np.log(1/(R_m1*R_m2)))))\n",
    "eta_D"
   ]
  },
  {
   "cell_type": "markdown",
   "id": "eb814f1c-1b08-478a-a991-7ea98859f37f",
   "metadata": {},
   "source": [
    "Так, дифференциальная квантовая эффективность около 46%"
   ]
  },
  {
   "cell_type": "markdown",
   "id": "baff6695-bf8d-46ad-b0e2-cd9f7de769e3",
   "metadata": {},
   "source": [
    "### Задача 3.3 Расчет релаксационной частоты полупроводникового гетеролазера GaAs/AlGaAs"
   ]
  },
  {
   "cell_type": "markdown",
   "id": "a45174d1-359a-4ef5-a806-222e81ca5889",
   "metadata": {},
   "source": [
    "Сперва рассчитаем время жизни фотона в резонаторе"
   ]
  },
  {
   "cell_type": "code",
   "execution_count": 15,
   "id": "538fa5ef-440e-4064-89b2-308b5e63abd9",
   "metadata": {},
   "outputs": [],
   "source": [
    "tau_c=1/((np.log(1/(R_m1*R_m2))/(2*L))*(c/n_sc))"
   ]
  },
  {
   "cell_type": "markdown",
   "id": "268159fb-fbd2-41d1-b9db-084965123fe4",
   "metadata": {},
   "source": [
    "После чего рассчитаем частоту релаксационных колебаний в ГГц"
   ]
  },
  {
   "cell_type": "code",
   "execution_count": 19,
   "id": "9baa5326-70d0-42ef-b167-f4fe8d040db7",
   "metadata": {},
   "outputs": [
    {
     "data": {
      "text/plain": [
       "6.511960481651784"
      ]
     },
     "execution_count": 19,
     "metadata": {},
     "output_type": "execute_result"
    }
   ],
   "source": [
    "f_R=(1/(2*np.pi))*np.sqrt(c*g*s/(n_sc*tau_c))\n",
    "f_R*10**(-9)"
   ]
  }
 ],
 "metadata": {
  "kernelspec": {
   "display_name": "Python 3 (ipykernel)",
   "language": "python",
   "name": "python3"
  },
  "language_info": {
   "codemirror_mode": {
    "name": "ipython",
    "version": 3
   },
   "file_extension": ".py",
   "mimetype": "text/x-python",
   "name": "python",
   "nbconvert_exporter": "python",
   "pygments_lexer": "ipython3",
   "version": "3.9.7"
  }
 },
 "nbformat": 4,
 "nbformat_minor": 5
}
